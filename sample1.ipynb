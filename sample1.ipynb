{
 "cells": [
  {
   "cell_type": "code",
   "execution_count": 4,
   "id": "846d961d",
   "metadata": {},
   "outputs": [
    {
     "data": {
      "text/plain": [
       "(465564, 4)"
      ]
     },
     "execution_count": 4,
     "metadata": {},
     "output_type": "execute_result"
    }
   ],
   "source": [
    "tags = pd.read_csv(path + 'tags.csv')\n",
    "tags.shape"
   ]
  },
  {
   "cell_type": "code",
   "execution_count": 5,
   "id": "23a40c8e",
   "metadata": {},
   "outputs": [
    {
     "data": {
      "text/plain": [
       "(20000263, 4)"
      ]
     },
     "execution_count": 5,
     "metadata": {},
     "output_type": "execute_result"
    }
   ],
   "source": [
    "ratings = pd.read_csv(path + 'ratings.csv')\n",
    "ratings.shape"
   ]
  },
  {
   "cell_type": "code",
   "execution_count": 6,
   "id": "07248160",
   "metadata": {},
   "outputs": [
    {
     "data": {
      "text/plain": [
       "(27278, 3)"
      ]
     },
     "execution_count": 6,
     "metadata": {},
     "output_type": "execute_result"
    }
   ],
   "source": [
    "links = pd.read_csv(path + 'links.csv')\n",
    "links.shape"
   ]
  },
  {
   "cell_type": "code",
   "execution_count": 7,
   "id": "398a07a1",
   "metadata": {},
   "outputs": [
    {
     "data": {
      "text/html": [
       "<div>\n",
       "<style scoped>\n",
       "    .dataframe tbody tr th:only-of-type {\n",
       "        vertical-align: middle;\n",
       "    }\n",
       "\n",
       "    .dataframe tbody tr th {\n",
       "        vertical-align: top;\n",
       "    }\n",
       "\n",
       "    .dataframe thead th {\n",
       "        text-align: right;\n",
       "    }\n",
       "</style>\n",
       "<table border=\"1\" class=\"dataframe\">\n",
       "  <thead>\n",
       "    <tr style=\"text-align: right;\">\n",
       "      <th></th>\n",
       "      <th>movieId</th>\n",
       "      <th>title</th>\n",
       "      <th>genres</th>\n",
       "    </tr>\n",
       "  </thead>\n",
       "  <tbody>\n",
       "    <tr>\n",
       "      <th>0</th>\n",
       "      <td>1</td>\n",
       "      <td>Toy Story (1995)</td>\n",
       "      <td>Adventure|Animation|Children|Comedy|Fantasy</td>\n",
       "    </tr>\n",
       "    <tr>\n",
       "      <th>1</th>\n",
       "      <td>2</td>\n",
       "      <td>Jumanji (1995)</td>\n",
       "      <td>Adventure|Children|Fantasy</td>\n",
       "    </tr>\n",
       "    <tr>\n",
       "      <th>2</th>\n",
       "      <td>3</td>\n",
       "      <td>Grumpier Old Men (1995)</td>\n",
       "      <td>Comedy|Romance</td>\n",
       "    </tr>\n",
       "    <tr>\n",
       "      <th>3</th>\n",
       "      <td>4</td>\n",
       "      <td>Waiting to Exhale (1995)</td>\n",
       "      <td>Comedy|Drama|Romance</td>\n",
       "    </tr>\n",
       "    <tr>\n",
       "      <th>4</th>\n",
       "      <td>5</td>\n",
       "      <td>Father of the Bride Part II (1995)</td>\n",
       "      <td>Comedy</td>\n",
       "    </tr>\n",
       "  </tbody>\n",
       "</table>\n",
       "</div>"
      ],
      "text/plain": [
       "   movieId                               title  \\\n",
       "0        1                    Toy Story (1995)   \n",
       "1        2                      Jumanji (1995)   \n",
       "2        3             Grumpier Old Men (1995)   \n",
       "3        4            Waiting to Exhale (1995)   \n",
       "4        5  Father of the Bride Part II (1995)   \n",
       "\n",
       "                                        genres  \n",
       "0  Adventure|Animation|Children|Comedy|Fantasy  \n",
       "1                   Adventure|Children|Fantasy  \n",
       "2                               Comedy|Romance  \n",
       "3                         Comedy|Drama|Romance  \n",
       "4                                       Comedy  "
      ]
     },
     "execution_count": 7,
     "metadata": {},
     "output_type": "execute_result"
    }
   ],
   "source": [
    "movies.head()"
   ]
  },
  {
   "cell_type": "code",
   "execution_count": 8,
   "id": "8a547f5a",
   "metadata": {},
   "outputs": [
    {
     "data": {
      "text/html": [
       "<div>\n",
       "<style scoped>\n",
       "    .dataframe tbody tr th:only-of-type {\n",
       "        vertical-align: middle;\n",
       "    }\n",
       "\n",
       "    .dataframe tbody tr th {\n",
       "        vertical-align: top;\n",
       "    }\n",
       "\n",
       "    .dataframe thead th {\n",
       "        text-align: right;\n",
       "    }\n",
       "</style>\n",
       "<table border=\"1\" class=\"dataframe\">\n",
       "  <thead>\n",
       "    <tr style=\"text-align: right;\">\n",
       "      <th></th>\n",
       "      <th>userId</th>\n",
       "      <th>movieId</th>\n",
       "      <th>tag</th>\n",
       "      <th>timestamp</th>\n",
       "    </tr>\n",
       "  </thead>\n",
       "  <tbody>\n",
       "    <tr>\n",
       "      <th>0</th>\n",
       "      <td>18</td>\n",
       "      <td>4141</td>\n",
       "      <td>Mark Waters</td>\n",
       "      <td>1240597180</td>\n",
       "    </tr>\n",
       "    <tr>\n",
       "      <th>1</th>\n",
       "      <td>65</td>\n",
       "      <td>208</td>\n",
       "      <td>dark hero</td>\n",
       "      <td>1368150078</td>\n",
       "    </tr>\n",
       "    <tr>\n",
       "      <th>2</th>\n",
       "      <td>65</td>\n",
       "      <td>353</td>\n",
       "      <td>dark hero</td>\n",
       "      <td>1368150079</td>\n",
       "    </tr>\n",
       "    <tr>\n",
       "      <th>3</th>\n",
       "      <td>65</td>\n",
       "      <td>521</td>\n",
       "      <td>noir thriller</td>\n",
       "      <td>1368149983</td>\n",
       "    </tr>\n",
       "    <tr>\n",
       "      <th>4</th>\n",
       "      <td>65</td>\n",
       "      <td>592</td>\n",
       "      <td>dark hero</td>\n",
       "      <td>1368150078</td>\n",
       "    </tr>\n",
       "  </tbody>\n",
       "</table>\n",
       "</div>"
      ],
      "text/plain": [
       "   userId  movieId            tag   timestamp\n",
       "0      18     4141    Mark Waters  1240597180\n",
       "1      65      208      dark hero  1368150078\n",
       "2      65      353      dark hero  1368150079\n",
       "3      65      521  noir thriller  1368149983\n",
       "4      65      592      dark hero  1368150078"
      ]
     },
     "execution_count": 8,
     "metadata": {},
     "output_type": "execute_result"
    }
   ],
   "source": [
    "tags.head()"
   ]
  },
  {
   "cell_type": "code",
   "execution_count": 9,
   "id": "bbc7db31",
   "metadata": {},
   "outputs": [
    {
     "data": {
      "text/html": [
       "<div>\n",
       "<style scoped>\n",
       "    .dataframe tbody tr th:only-of-type {\n",
       "        vertical-align: middle;\n",
       "    }\n",
       "\n",
       "    .dataframe tbody tr th {\n",
       "        vertical-align: top;\n",
       "    }\n",
       "\n",
       "    .dataframe thead th {\n",
       "        text-align: right;\n",
       "    }\n",
       "</style>\n",
       "<table border=\"1\" class=\"dataframe\">\n",
       "  <thead>\n",
       "    <tr style=\"text-align: right;\">\n",
       "      <th></th>\n",
       "      <th>userId</th>\n",
       "      <th>movieId</th>\n",
       "      <th>rating</th>\n",
       "      <th>timestamp</th>\n",
       "    </tr>\n",
       "  </thead>\n",
       "  <tbody>\n",
       "    <tr>\n",
       "      <th>0</th>\n",
       "      <td>1</td>\n",
       "      <td>2</td>\n",
       "      <td>3.5</td>\n",
       "      <td>1112486027</td>\n",
       "    </tr>\n",
       "    <tr>\n",
       "      <th>1</th>\n",
       "      <td>1</td>\n",
       "      <td>29</td>\n",
       "      <td>3.5</td>\n",
       "      <td>1112484676</td>\n",
       "    </tr>\n",
       "    <tr>\n",
       "      <th>2</th>\n",
       "      <td>1</td>\n",
       "      <td>32</td>\n",
       "      <td>3.5</td>\n",
       "      <td>1112484819</td>\n",
       "    </tr>\n",
       "    <tr>\n",
       "      <th>3</th>\n",
       "      <td>1</td>\n",
       "      <td>47</td>\n",
       "      <td>3.5</td>\n",
       "      <td>1112484727</td>\n",
       "    </tr>\n",
       "    <tr>\n",
       "      <th>4</th>\n",
       "      <td>1</td>\n",
       "      <td>50</td>\n",
       "      <td>3.5</td>\n",
       "      <td>1112484580</td>\n",
       "    </tr>\n",
       "  </tbody>\n",
       "</table>\n",
       "</div>"
      ],
      "text/plain": [
       "   userId  movieId  rating   timestamp\n",
       "0       1        2     3.5  1112486027\n",
       "1       1       29     3.5  1112484676\n",
       "2       1       32     3.5  1112484819\n",
       "3       1       47     3.5  1112484727\n",
       "4       1       50     3.5  1112484580"
      ]
     },
     "execution_count": 9,
     "metadata": {},
     "output_type": "execute_result"
    }
   ],
   "source": [
    "ratings.head()"
   ]
  },
  {
   "cell_type": "code",
   "execution_count": 10,
   "id": "fb2095bc",
   "metadata": {},
   "outputs": [
    {
     "data": {
      "text/html": [
       "<div>\n",
       "<style scoped>\n",
       "    .dataframe tbody tr th:only-of-type {\n",
       "        vertical-align: middle;\n",
       "    }\n",
       "\n",
       "    .dataframe tbody tr th {\n",
       "        vertical-align: top;\n",
       "    }\n",
       "\n",
       "    .dataframe thead th {\n",
       "        text-align: right;\n",
       "    }\n",
       "</style>\n",
       "<table border=\"1\" class=\"dataframe\">\n",
       "  <thead>\n",
       "    <tr style=\"text-align: right;\">\n",
       "      <th></th>\n",
       "      <th>movieId</th>\n",
       "      <th>imdbId</th>\n",
       "      <th>tmdbId</th>\n",
       "    </tr>\n",
       "  </thead>\n",
       "  <tbody>\n",
       "    <tr>\n",
       "      <th>0</th>\n",
       "      <td>1</td>\n",
       "      <td>114709</td>\n",
       "      <td>862.0</td>\n",
       "    </tr>\n",
       "    <tr>\n",
       "      <th>1</th>\n",
       "      <td>2</td>\n",
       "      <td>113497</td>\n",
       "      <td>8844.0</td>\n",
       "    </tr>\n",
       "    <tr>\n",
       "      <th>2</th>\n",
       "      <td>3</td>\n",
       "      <td>113228</td>\n",
       "      <td>15602.0</td>\n",
       "    </tr>\n",
       "    <tr>\n",
       "      <th>3</th>\n",
       "      <td>4</td>\n",
       "      <td>114885</td>\n",
       "      <td>31357.0</td>\n",
       "    </tr>\n",
       "    <tr>\n",
       "      <th>4</th>\n",
       "      <td>5</td>\n",
       "      <td>113041</td>\n",
       "      <td>11862.0</td>\n",
       "    </tr>\n",
       "  </tbody>\n",
       "</table>\n",
       "</div>"
      ],
      "text/plain": [
       "   movieId  imdbId   tmdbId\n",
       "0        1  114709    862.0\n",
       "1        2  113497   8844.0\n",
       "2        3  113228  15602.0\n",
       "3        4  114885  31357.0\n",
       "4        5  113041  11862.0"
      ]
     },
     "execution_count": 10,
     "metadata": {},
     "output_type": "execute_result"
    }
   ],
   "source": [
    "links.head()"
   ]
  },
  {
   "cell_type": "code",
   "execution_count": 12,
   "id": "8b49a6da",
   "metadata": {},
   "outputs": [],
   "source": [
    "# List of genres as a Python list \n",
    "genres = ['Action','Adventure','Animation','Children','Comedy','Crime','Documentary','Drama','Fantasy','Film-Noir','Horror','Musical','Mystery','Romance','Sci-Fi','Thriller','War','Western']"
   ]
  },
  {
   "cell_type": "code",
   "execution_count": 14,
   "id": "b93be95f",
   "metadata": {},
   "outputs": [],
   "source": [
    "genres_rating_list = []"
   ]
  },
  {
   "cell_type": "code",
   "execution_count": 21,
   "id": "3486b592",
   "metadata": {},
   "outputs": [],
   "source": [
    "# The loop reads each element of the above list\n",
    "    # For each iteration, one genre is selected from the movies data frame\n",
    "    # This selection of the data frame is then merged with the rating data frame to get the rating for that genre\n",
    "    # Once the new merged data frame is created, we use the mean function to get the mean rating for the genre\n",
    "    # The genre and the corresponding mean rating are then appended to the genres_rating Data Frame\n",
    "    # The entire looping takes long - can certainly be optimized for performance\n",
    " \n",
    "for i in range(len(genres)):\n",
    "    fil = genres[i]+'_filter'\n",
    "    mov = genres[i]+'_movies'\n",
    "    rat = genres[i]+'_ratings'\n",
    "    rat_mean = rat+'_mean'\n",
    "    fil = movies['genres'].str.contains(genres[i])\n",
    "    mov = movies[fil]\n",
    "    rat = mov.merge(ratings, on='movieId', how='inner')\n",
    "    rat_mean = round(rat['rating'].mean(), 2)\n",
    "    #print(genres[i], round(rat_mean,2))\n",
    "    genres_rating_list.append(rat_mean)"
   ]
  },
  {
   "cell_type": "code",
   "execution_count": 16,
   "id": "c8f90dea",
   "metadata": {},
   "outputs": [],
   "source": [
    "df = {'Genre':genres, 'Genres Mean Rating':genres_rating_list}"
   ]
  },
  {
   "cell_type": "code",
   "execution_count": 17,
   "id": "9da136d9",
   "metadata": {},
   "outputs": [],
   "source": [
    "genres_rating = pd.DataFrame(df)"
   ]
  },
  {
   "cell_type": "code",
   "execution_count": 18,
   "id": "1039e933",
   "metadata": {
    "scrolled": true
   },
   "outputs": [
    {
     "data": {
      "text/html": [
       "<div>\n",
       "<style scoped>\n",
       "    .dataframe tbody tr th:only-of-type {\n",
       "        vertical-align: middle;\n",
       "    }\n",
       "\n",
       "    .dataframe tbody tr th {\n",
       "        vertical-align: top;\n",
       "    }\n",
       "\n",
       "    .dataframe thead th {\n",
       "        text-align: right;\n",
       "    }\n",
       "</style>\n",
       "<table border=\"1\" class=\"dataframe\">\n",
       "  <thead>\n",
       "    <tr style=\"text-align: right;\">\n",
       "      <th></th>\n",
       "      <th>Genre</th>\n",
       "      <th>Genres Mean Rating</th>\n",
       "    </tr>\n",
       "  </thead>\n",
       "  <tbody>\n",
       "    <tr>\n",
       "      <th>0</th>\n",
       "      <td>Action</td>\n",
       "      <td>3.44</td>\n",
       "    </tr>\n",
       "    <tr>\n",
       "      <th>1</th>\n",
       "      <td>Adventure</td>\n",
       "      <td>3.50</td>\n",
       "    </tr>\n",
       "    <tr>\n",
       "      <th>2</th>\n",
       "      <td>Animation</td>\n",
       "      <td>3.62</td>\n",
       "    </tr>\n",
       "    <tr>\n",
       "      <th>3</th>\n",
       "      <td>Children</td>\n",
       "      <td>3.41</td>\n",
       "    </tr>\n",
       "    <tr>\n",
       "      <th>4</th>\n",
       "      <td>Comedy</td>\n",
       "      <td>3.43</td>\n",
       "    </tr>\n",
       "    <tr>\n",
       "      <th>5</th>\n",
       "      <td>Crime</td>\n",
       "      <td>3.67</td>\n",
       "    </tr>\n",
       "    <tr>\n",
       "      <th>6</th>\n",
       "      <td>Documentary</td>\n",
       "      <td>3.74</td>\n",
       "    </tr>\n",
       "    <tr>\n",
       "      <th>7</th>\n",
       "      <td>Drama</td>\n",
       "      <td>3.67</td>\n",
       "    </tr>\n",
       "    <tr>\n",
       "      <th>8</th>\n",
       "      <td>Fantasy</td>\n",
       "      <td>3.51</td>\n",
       "    </tr>\n",
       "    <tr>\n",
       "      <th>9</th>\n",
       "      <td>Film-Noir</td>\n",
       "      <td>3.97</td>\n",
       "    </tr>\n",
       "    <tr>\n",
       "      <th>10</th>\n",
       "      <td>Horror</td>\n",
       "      <td>3.28</td>\n",
       "    </tr>\n",
       "    <tr>\n",
       "      <th>11</th>\n",
       "      <td>Musical</td>\n",
       "      <td>3.56</td>\n",
       "    </tr>\n",
       "    <tr>\n",
       "      <th>12</th>\n",
       "      <td>Mystery</td>\n",
       "      <td>3.66</td>\n",
       "    </tr>\n",
       "    <tr>\n",
       "      <th>13</th>\n",
       "      <td>Romance</td>\n",
       "      <td>3.54</td>\n",
       "    </tr>\n",
       "    <tr>\n",
       "      <th>14</th>\n",
       "      <td>Sci-Fi</td>\n",
       "      <td>3.44</td>\n",
       "    </tr>\n",
       "    <tr>\n",
       "      <th>15</th>\n",
       "      <td>Thriller</td>\n",
       "      <td>3.51</td>\n",
       "    </tr>\n",
       "    <tr>\n",
       "      <th>16</th>\n",
       "      <td>War</td>\n",
       "      <td>3.81</td>\n",
       "    </tr>\n",
       "    <tr>\n",
       "      <th>17</th>\n",
       "      <td>Western</td>\n",
       "      <td>3.57</td>\n",
       "    </tr>\n",
       "  </tbody>\n",
       "</table>\n",
       "</div>"
      ],
      "text/plain": [
       "          Genre  Genres Mean Rating\n",
       "0        Action                3.44\n",
       "1     Adventure                3.50\n",
       "2     Animation                3.62\n",
       "3      Children                3.41\n",
       "4        Comedy                3.43\n",
       "5         Crime                3.67\n",
       "6   Documentary                3.74\n",
       "7         Drama                3.67\n",
       "8       Fantasy                3.51\n",
       "9     Film-Noir                3.97\n",
       "10       Horror                3.28\n",
       "11      Musical                3.56\n",
       "12      Mystery                3.66\n",
       "13      Romance                3.54\n",
       "14       Sci-Fi                3.44\n",
       "15     Thriller                3.51\n",
       "16          War                3.81\n",
       "17      Western                3.57"
      ]
     },
     "execution_count": 18,
     "metadata": {},
     "output_type": "execute_result"
    }
   ],
   "source": [
    "genres_rating"
   ]
  },
  {
   "cell_type": "code",
   "execution_count": 22,
   "id": "6f643674",
   "metadata": {},
   "outputs": [],
   "source": [
    "genres_rating['Genres Standard Deviation'] = genres_rating['Genres Mean Rating'].std()"
   ]
  },
  {
   "cell_type": "code",
   "execution_count": 24,
   "id": "6605ebbf",
   "metadata": {},
   "outputs": [],
   "source": [
    "genres_rating['Mean'] = genres_rating['Genres Mean Rating'].mean()\n",
    "genres_rating['Zero'] = 0"
   ]
  },
  {
   "cell_type": "code",
   "execution_count": 25,
   "id": "842b1fde",
   "metadata": {
    "scrolled": false
   },
   "outputs": [
    {
     "data": {
      "text/html": [
       "<div>\n",
       "<style scoped>\n",
       "    .dataframe tbody tr th:only-of-type {\n",
       "        vertical-align: middle;\n",
       "    }\n",
       "\n",
       "    .dataframe tbody tr th {\n",
       "        vertical-align: top;\n",
       "    }\n",
       "\n",
       "    .dataframe thead th {\n",
       "        text-align: right;\n",
       "    }\n",
       "</style>\n",
       "<table border=\"1\" class=\"dataframe\">\n",
       "  <thead>\n",
       "    <tr style=\"text-align: right;\">\n",
       "      <th></th>\n",
       "      <th>Genre</th>\n",
       "      <th>Genres Mean Rating</th>\n",
       "      <th>Genres Standard Deviation</th>\n",
       "      <th>Mean</th>\n",
       "      <th>Zero</th>\n",
       "    </tr>\n",
       "  </thead>\n",
       "  <tbody>\n",
       "    <tr>\n",
       "      <th>0</th>\n",
       "      <td>Action</td>\n",
       "      <td>3.44</td>\n",
       "      <td>0.163244</td>\n",
       "      <td>3.573889</td>\n",
       "      <td>0</td>\n",
       "    </tr>\n",
       "    <tr>\n",
       "      <th>1</th>\n",
       "      <td>Adventure</td>\n",
       "      <td>3.50</td>\n",
       "      <td>0.163244</td>\n",
       "      <td>3.573889</td>\n",
       "      <td>0</td>\n",
       "    </tr>\n",
       "    <tr>\n",
       "      <th>2</th>\n",
       "      <td>Animation</td>\n",
       "      <td>3.62</td>\n",
       "      <td>0.163244</td>\n",
       "      <td>3.573889</td>\n",
       "      <td>0</td>\n",
       "    </tr>\n",
       "    <tr>\n",
       "      <th>3</th>\n",
       "      <td>Children</td>\n",
       "      <td>3.41</td>\n",
       "      <td>0.163244</td>\n",
       "      <td>3.573889</td>\n",
       "      <td>0</td>\n",
       "    </tr>\n",
       "    <tr>\n",
       "      <th>4</th>\n",
       "      <td>Comedy</td>\n",
       "      <td>3.43</td>\n",
       "      <td>0.163244</td>\n",
       "      <td>3.573889</td>\n",
       "      <td>0</td>\n",
       "    </tr>\n",
       "    <tr>\n",
       "      <th>5</th>\n",
       "      <td>Crime</td>\n",
       "      <td>3.67</td>\n",
       "      <td>0.163244</td>\n",
       "      <td>3.573889</td>\n",
       "      <td>0</td>\n",
       "    </tr>\n",
       "    <tr>\n",
       "      <th>6</th>\n",
       "      <td>Documentary</td>\n",
       "      <td>3.74</td>\n",
       "      <td>0.163244</td>\n",
       "      <td>3.573889</td>\n",
       "      <td>0</td>\n",
       "    </tr>\n",
       "    <tr>\n",
       "      <th>7</th>\n",
       "      <td>Drama</td>\n",
       "      <td>3.67</td>\n",
       "      <td>0.163244</td>\n",
       "      <td>3.573889</td>\n",
       "      <td>0</td>\n",
       "    </tr>\n",
       "    <tr>\n",
       "      <th>8</th>\n",
       "      <td>Fantasy</td>\n",
       "      <td>3.51</td>\n",
       "      <td>0.163244</td>\n",
       "      <td>3.573889</td>\n",
       "      <td>0</td>\n",
       "    </tr>\n",
       "    <tr>\n",
       "      <th>9</th>\n",
       "      <td>Film-Noir</td>\n",
       "      <td>3.97</td>\n",
       "      <td>0.163244</td>\n",
       "      <td>3.573889</td>\n",
       "      <td>0</td>\n",
       "    </tr>\n",
       "    <tr>\n",
       "      <th>10</th>\n",
       "      <td>Horror</td>\n",
       "      <td>3.28</td>\n",
       "      <td>0.163244</td>\n",
       "      <td>3.573889</td>\n",
       "      <td>0</td>\n",
       "    </tr>\n",
       "    <tr>\n",
       "      <th>11</th>\n",
       "      <td>Musical</td>\n",
       "      <td>3.56</td>\n",
       "      <td>0.163244</td>\n",
       "      <td>3.573889</td>\n",
       "      <td>0</td>\n",
       "    </tr>\n",
       "    <tr>\n",
       "      <th>12</th>\n",
       "      <td>Mystery</td>\n",
       "      <td>3.66</td>\n",
       "      <td>0.163244</td>\n",
       "      <td>3.573889</td>\n",
       "      <td>0</td>\n",
       "    </tr>\n",
       "    <tr>\n",
       "      <th>13</th>\n",
       "      <td>Romance</td>\n",
       "      <td>3.54</td>\n",
       "      <td>0.163244</td>\n",
       "      <td>3.573889</td>\n",
       "      <td>0</td>\n",
       "    </tr>\n",
       "    <tr>\n",
       "      <th>14</th>\n",
       "      <td>Sci-Fi</td>\n",
       "      <td>3.44</td>\n",
       "      <td>0.163244</td>\n",
       "      <td>3.573889</td>\n",
       "      <td>0</td>\n",
       "    </tr>\n",
       "    <tr>\n",
       "      <th>15</th>\n",
       "      <td>Thriller</td>\n",
       "      <td>3.51</td>\n",
       "      <td>0.163244</td>\n",
       "      <td>3.573889</td>\n",
       "      <td>0</td>\n",
       "    </tr>\n",
       "    <tr>\n",
       "      <th>16</th>\n",
       "      <td>War</td>\n",
       "      <td>3.81</td>\n",
       "      <td>0.163244</td>\n",
       "      <td>3.573889</td>\n",
       "      <td>0</td>\n",
       "    </tr>\n",
       "    <tr>\n",
       "      <th>17</th>\n",
       "      <td>Western</td>\n",
       "      <td>3.57</td>\n",
       "      <td>0.163244</td>\n",
       "      <td>3.573889</td>\n",
       "      <td>0</td>\n",
       "    </tr>\n",
       "  </tbody>\n",
       "</table>\n",
       "</div>"
      ],
      "text/plain": [
       "          Genre  Genres Mean Rating  Genres Standard Deviation      Mean  Zero\n",
       "0        Action                3.44                   0.163244  3.573889     0\n",
       "1     Adventure                3.50                   0.163244  3.573889     0\n",
       "2     Animation                3.62                   0.163244  3.573889     0\n",
       "3      Children                3.41                   0.163244  3.573889     0\n",
       "4        Comedy                3.43                   0.163244  3.573889     0\n",
       "5         Crime                3.67                   0.163244  3.573889     0\n",
       "6   Documentary                3.74                   0.163244  3.573889     0\n",
       "7         Drama                3.67                   0.163244  3.573889     0\n",
       "8       Fantasy                3.51                   0.163244  3.573889     0\n",
       "9     Film-Noir                3.97                   0.163244  3.573889     0\n",
       "10       Horror                3.28                   0.163244  3.573889     0\n",
       "11      Musical                3.56                   0.163244  3.573889     0\n",
       "12      Mystery                3.66                   0.163244  3.573889     0\n",
       "13      Romance                3.54                   0.163244  3.573889     0\n",
       "14       Sci-Fi                3.44                   0.163244  3.573889     0\n",
       "15     Thriller                3.51                   0.163244  3.573889     0\n",
       "16          War                3.81                   0.163244  3.573889     0\n",
       "17      Western                3.57                   0.163244  3.573889     0"
      ]
     },
     "execution_count": 25,
     "metadata": {},
     "output_type": "execute_result"
    }
   ],
   "source": [
    "genres_rating"
   ]
  },
  {
   "cell_type": "code",
   "execution_count": 26,
   "id": "e842b3d5",
   "metadata": {},
   "outputs": [],
   "source": [
    "overall_mean = round(genres_rating['Genres Mean Rating'].mean(), 2)\n",
    "overall_std = round(genres_rating['Genres Mean Rating'].std(),2)\n",
    "scifi_rating = genres_rating[genres_rating['Genre'] == 'Sci-Fi']['Genres Mean Rating']"
   ]
  },
  {
   "cell_type": "code",
   "execution_count": 28,
   "id": "3064d46c",
   "metadata": {},
   "outputs": [
    {
     "data": {
      "text/plain": [
       "3.57"
      ]
     },
     "execution_count": 28,
     "metadata": {},
     "output_type": "execute_result"
    }
   ],
   "source": [
    "overall_mean"
   ]
  },
  {
   "cell_type": "code",
   "execution_count": 29,
   "id": "beda6baf",
   "metadata": {
    "scrolled": true
   },
   "outputs": [
    {
     "data": {
      "text/plain": [
       "0.16"
      ]
     },
     "execution_count": 29,
     "metadata": {},
     "output_type": "execute_result"
    }
   ],
   "source": [
    "overall_std"
   ]
  },
  {
   "cell_type": "code",
   "execution_count": 30,
   "id": "de866ae8",
   "metadata": {},
   "outputs": [
    {
     "data": {
      "text/plain": [
       "14    3.44\n",
       "Name: Genres Mean Rating, dtype: float64"
      ]
     },
     "execution_count": 30,
     "metadata": {},
     "output_type": "execute_result"
    }
   ],
   "source": [
    "scifi_rating"
   ]
  },
  {
   "cell_type": "code",
   "execution_count": 31,
   "id": "2cb99bf5",
   "metadata": {},
   "outputs": [],
   "source": [
    "genres_rating['Diff from Mean'] = genres_rating['Genres Mean Rating'] - overall_mean"
   ]
  },
  {
   "cell_type": "code",
   "execution_count": 32,
   "id": "de3133b7",
   "metadata": {},
   "outputs": [
    {
     "data": {
      "text/html": [
       "<div>\n",
       "<style scoped>\n",
       "    .dataframe tbody tr th:only-of-type {\n",
       "        vertical-align: middle;\n",
       "    }\n",
       "\n",
       "    .dataframe tbody tr th {\n",
       "        vertical-align: top;\n",
       "    }\n",
       "\n",
       "    .dataframe thead th {\n",
       "        text-align: right;\n",
       "    }\n",
       "</style>\n",
       "<table border=\"1\" class=\"dataframe\">\n",
       "  <thead>\n",
       "    <tr style=\"text-align: right;\">\n",
       "      <th></th>\n",
       "      <th>Genre</th>\n",
       "      <th>Genres Mean Rating</th>\n",
       "      <th>Genres Standard Deviation</th>\n",
       "      <th>Mean</th>\n",
       "      <th>Zero</th>\n",
       "      <th>Diff from Mean</th>\n",
       "    </tr>\n",
       "  </thead>\n",
       "  <tbody>\n",
       "    <tr>\n",
       "      <th>0</th>\n",
       "      <td>Action</td>\n",
       "      <td>3.44</td>\n",
       "      <td>0.163244</td>\n",
       "      <td>3.573889</td>\n",
       "      <td>0</td>\n",
       "      <td>-0.13</td>\n",
       "    </tr>\n",
       "    <tr>\n",
       "      <th>1</th>\n",
       "      <td>Adventure</td>\n",
       "      <td>3.50</td>\n",
       "      <td>0.163244</td>\n",
       "      <td>3.573889</td>\n",
       "      <td>0</td>\n",
       "      <td>-0.07</td>\n",
       "    </tr>\n",
       "    <tr>\n",
       "      <th>2</th>\n",
       "      <td>Animation</td>\n",
       "      <td>3.62</td>\n",
       "      <td>0.163244</td>\n",
       "      <td>3.573889</td>\n",
       "      <td>0</td>\n",
       "      <td>0.05</td>\n",
       "    </tr>\n",
       "    <tr>\n",
       "      <th>3</th>\n",
       "      <td>Children</td>\n",
       "      <td>3.41</td>\n",
       "      <td>0.163244</td>\n",
       "      <td>3.573889</td>\n",
       "      <td>0</td>\n",
       "      <td>-0.16</td>\n",
       "    </tr>\n",
       "    <tr>\n",
       "      <th>4</th>\n",
       "      <td>Comedy</td>\n",
       "      <td>3.43</td>\n",
       "      <td>0.163244</td>\n",
       "      <td>3.573889</td>\n",
       "      <td>0</td>\n",
       "      <td>-0.14</td>\n",
       "    </tr>\n",
       "    <tr>\n",
       "      <th>5</th>\n",
       "      <td>Crime</td>\n",
       "      <td>3.67</td>\n",
       "      <td>0.163244</td>\n",
       "      <td>3.573889</td>\n",
       "      <td>0</td>\n",
       "      <td>0.10</td>\n",
       "    </tr>\n",
       "    <tr>\n",
       "      <th>6</th>\n",
       "      <td>Documentary</td>\n",
       "      <td>3.74</td>\n",
       "      <td>0.163244</td>\n",
       "      <td>3.573889</td>\n",
       "      <td>0</td>\n",
       "      <td>0.17</td>\n",
       "    </tr>\n",
       "    <tr>\n",
       "      <th>7</th>\n",
       "      <td>Drama</td>\n",
       "      <td>3.67</td>\n",
       "      <td>0.163244</td>\n",
       "      <td>3.573889</td>\n",
       "      <td>0</td>\n",
       "      <td>0.10</td>\n",
       "    </tr>\n",
       "    <tr>\n",
       "      <th>8</th>\n",
       "      <td>Fantasy</td>\n",
       "      <td>3.51</td>\n",
       "      <td>0.163244</td>\n",
       "      <td>3.573889</td>\n",
       "      <td>0</td>\n",
       "      <td>-0.06</td>\n",
       "    </tr>\n",
       "    <tr>\n",
       "      <th>9</th>\n",
       "      <td>Film-Noir</td>\n",
       "      <td>3.97</td>\n",
       "      <td>0.163244</td>\n",
       "      <td>3.573889</td>\n",
       "      <td>0</td>\n",
       "      <td>0.40</td>\n",
       "    </tr>\n",
       "    <tr>\n",
       "      <th>10</th>\n",
       "      <td>Horror</td>\n",
       "      <td>3.28</td>\n",
       "      <td>0.163244</td>\n",
       "      <td>3.573889</td>\n",
       "      <td>0</td>\n",
       "      <td>-0.29</td>\n",
       "    </tr>\n",
       "    <tr>\n",
       "      <th>11</th>\n",
       "      <td>Musical</td>\n",
       "      <td>3.56</td>\n",
       "      <td>0.163244</td>\n",
       "      <td>3.573889</td>\n",
       "      <td>0</td>\n",
       "      <td>-0.01</td>\n",
       "    </tr>\n",
       "    <tr>\n",
       "      <th>12</th>\n",
       "      <td>Mystery</td>\n",
       "      <td>3.66</td>\n",
       "      <td>0.163244</td>\n",
       "      <td>3.573889</td>\n",
       "      <td>0</td>\n",
       "      <td>0.09</td>\n",
       "    </tr>\n",
       "    <tr>\n",
       "      <th>13</th>\n",
       "      <td>Romance</td>\n",
       "      <td>3.54</td>\n",
       "      <td>0.163244</td>\n",
       "      <td>3.573889</td>\n",
       "      <td>0</td>\n",
       "      <td>-0.03</td>\n",
       "    </tr>\n",
       "    <tr>\n",
       "      <th>14</th>\n",
       "      <td>Sci-Fi</td>\n",
       "      <td>3.44</td>\n",
       "      <td>0.163244</td>\n",
       "      <td>3.573889</td>\n",
       "      <td>0</td>\n",
       "      <td>-0.13</td>\n",
       "    </tr>\n",
       "    <tr>\n",
       "      <th>15</th>\n",
       "      <td>Thriller</td>\n",
       "      <td>3.51</td>\n",
       "      <td>0.163244</td>\n",
       "      <td>3.573889</td>\n",
       "      <td>0</td>\n",
       "      <td>-0.06</td>\n",
       "    </tr>\n",
       "    <tr>\n",
       "      <th>16</th>\n",
       "      <td>War</td>\n",
       "      <td>3.81</td>\n",
       "      <td>0.163244</td>\n",
       "      <td>3.573889</td>\n",
       "      <td>0</td>\n",
       "      <td>0.24</td>\n",
       "    </tr>\n",
       "    <tr>\n",
       "      <th>17</th>\n",
       "      <td>Western</td>\n",
       "      <td>3.57</td>\n",
       "      <td>0.163244</td>\n",
       "      <td>3.573889</td>\n",
       "      <td>0</td>\n",
       "      <td>0.00</td>\n",
       "    </tr>\n",
       "  </tbody>\n",
       "</table>\n",
       "</div>"
      ],
      "text/plain": [
       "          Genre  Genres Mean Rating  Genres Standard Deviation      Mean  \\\n",
       "0        Action                3.44                   0.163244  3.573889   \n",
       "1     Adventure                3.50                   0.163244  3.573889   \n",
       "2     Animation                3.62                   0.163244  3.573889   \n",
       "3      Children                3.41                   0.163244  3.573889   \n",
       "4        Comedy                3.43                   0.163244  3.573889   \n",
       "5         Crime                3.67                   0.163244  3.573889   \n",
       "6   Documentary                3.74                   0.163244  3.573889   \n",
       "7         Drama                3.67                   0.163244  3.573889   \n",
       "8       Fantasy                3.51                   0.163244  3.573889   \n",
       "9     Film-Noir                3.97                   0.163244  3.573889   \n",
       "10       Horror                3.28                   0.163244  3.573889   \n",
       "11      Musical                3.56                   0.163244  3.573889   \n",
       "12      Mystery                3.66                   0.163244  3.573889   \n",
       "13      Romance                3.54                   0.163244  3.573889   \n",
       "14       Sci-Fi                3.44                   0.163244  3.573889   \n",
       "15     Thriller                3.51                   0.163244  3.573889   \n",
       "16          War                3.81                   0.163244  3.573889   \n",
       "17      Western                3.57                   0.163244  3.573889   \n",
       "\n",
       "    Zero  Diff from Mean  \n",
       "0      0           -0.13  \n",
       "1      0           -0.07  \n",
       "2      0            0.05  \n",
       "3      0           -0.16  \n",
       "4      0           -0.14  \n",
       "5      0            0.10  \n",
       "6      0            0.17  \n",
       "7      0            0.10  \n",
       "8      0           -0.06  \n",
       "9      0            0.40  \n",
       "10     0           -0.29  \n",
       "11     0           -0.01  \n",
       "12     0            0.09  \n",
       "13     0           -0.03  \n",
       "14     0           -0.13  \n",
       "15     0           -0.06  \n",
       "16     0            0.24  \n",
       "17     0            0.00  "
      ]
     },
     "execution_count": 32,
     "metadata": {},
     "output_type": "execute_result"
    }
   ],
   "source": [
    "genres_rating"
   ]
  },
  {
   "cell_type": "code",
   "execution_count": 33,
   "id": "e2edabb0",
   "metadata": {},
   "outputs": [],
   "source": [
    "genre_list = list(genres_rating['Genre'])"
   ]
  },
  {
   "cell_type": "code",
   "execution_count": 34,
   "id": "f29ca791",
   "metadata": {},
   "outputs": [
    {
     "data": {
      "text/plain": [
       "['Action',\n",
       " 'Adventure',\n",
       " 'Animation',\n",
       " 'Children',\n",
       " 'Comedy',\n",
       " 'Crime',\n",
       " 'Documentary',\n",
       " 'Drama',\n",
       " 'Fantasy',\n",
       " 'Film-Noir',\n",
       " 'Horror',\n",
       " 'Musical',\n",
       " 'Mystery',\n",
       " 'Romance',\n",
       " 'Sci-Fi',\n",
       " 'Thriller',\n",
       " 'War',\n",
       " 'Western']"
      ]
     },
     "execution_count": 34,
     "metadata": {},
     "output_type": "execute_result"
    }
   ],
   "source": [
    "genre_list"
   ]
  },
  {
   "cell_type": "code",
   "execution_count": 35,
   "id": "a289a442",
   "metadata": {},
   "outputs": [],
   "source": [
    "genres_rating_list = list(genres_rating['Genres Mean Rating'])\n",
    "genres_diff_list = list(genres_rating['Diff from Mean'])"
   ]
  },
  {
   "cell_type": "code",
   "execution_count": 40,
   "id": "ac23dd5b",
   "metadata": {
    "scrolled": false
   },
   "outputs": [
    {
     "data": {
      "image/png": "[encoded data removed]",
      "text/plain": [
       "<Figure size 1440x720 with 2 Axes>"
      ]
     },
     "metadata": {
      "needs_background": "light"
     },
     "output_type": "display_data"
    }
   ],
   "source": [
    "%matplotlib inline\n",
    "import matplotlib.pyplot as plt\n",
    "\n",
    "plt.figure(figsize=(20, 10))\n",
    "\n",
    "ax1 = plt.subplot(2,1,1)\n",
    "x = [x for x in range(0, 18)]\n",
    "xticks_genre_list = genre_list\n",
    "y = genres_rating_list\n",
    "plt.xticks(range(len(x)), xticks_genre_list)\n",
    "plt.scatter(x,y, color='g')\n",
    "plt.plot(x, genres_rating['Mean'], color=\"red\")\n",
    "plt.autoscale(tight=True)\n",
    "#plt.rcParams[\"figure.figsize\"] = (10,2)\n",
    "plt.title('Movie ratings by genre')\n",
    "plt.xlabel('Genre')\n",
    "plt.ylabel('Rating')\n",
    "plt.ylim(ymax = 4, ymin = 3)\n",
    "plt.grid(True)\n",
    "plt.savefig(r'movie-ratings-by-genre.png')\n",
    "\n",
    "plt.annotate(\"Sci-Fi Rating\",\n",
    "            xy=(14.25,3.5), xycoords='data',\n",
    "            xytext=(14.20, 3.7), textcoords='data',\n",
    "            arrowprops=dict(arrowstyle=\"->\",\n",
    "                            connectionstyle=\"arc3\"),\n",
    "            )\n",
    "\n",
    "for i,j in enumerate( y ):\n",
    "    ax1.annotate( j, ( x[i] + 0.03, y[i] + 0.02))\n",
    "\n",
    "ax2 = plt.subplot(2,1,2)\n",
    "x = [x for x in range(0, 18)]\n",
    "xticks_genre_list = genre_list\n",
    "y = genres_rating['Diff from Mean']\n",
    "plt.xticks(range(len(x)), xticks_genre_list)\n",
    "plt.plot(x,y)\n",
    "plt.plot(x, genres_rating['Zero'])\n",
    "plt.autoscale(tight=True)\n",
    "#plt.rcParams[\"figure.figsize\"] = (10,2)\n",
    "plt.title('Deviation of each genre\\'s rating from the overall mean rating')\n",
    "plt.xlabel('Genre')\n",
    "plt.ylabel('Deviation from mean rating')\n",
    "plt.grid(True)\n",
    "plt.savefig(r'deviation-from-mean-rating.png')\n",
    "\n",
    "plt.annotate(\"Sci-Fi Rating\",\n",
    "            xy=(14,-0.13), xycoords='data',\n",
    "            xytext=(14.00, 0.0), textcoords='data',\n",
    "            arrowprops=dict(arrowstyle=\"->\",\n",
    "                            connectionstyle=\"arc3\"),\n",
    "            )\n",
    "\n",
    "\n",
    "plt.show()"
   ]
  },
  {
   "cell_type": "code",
   "execution_count": 43,
   "id": "533fc307",
   "metadata": {},
   "outputs": [],
   "source": [
    "# extract year of release of each movie from the title column\n",
    "# convert the data type of the movie_year column to numeric (from str)\n",
    "\n",
    "import numpy as np\n",
    "import re\n",
    "\n",
    "movies['movie_year'] = movies['title']\n",
    "\n",
    "movies['movie_year'] = movies['movie_year'].str.extract(r\"\\(([0-9]+)\\)\", expand=False)\n",
    "\n",
    "# creating a new column with just the movie titles\n",
    "movies['title_only'] = movies['title']\n",
    "movies['title_only'] = movies['title_only'].str.extract('(.*?)\\s*\\(', expand=False)"
   ]
  },
  {
   "cell_type": "code",
   "execution_count": 45,
   "id": "c9b805cf",
   "metadata": {},
   "outputs": [],
   "source": [
    "movies['movie_year'].fillna(0, inplace=True)"
   ]
  },
  {
   "cell_type": "code",
   "execution_count": 46,
   "id": "0d802c8d",
   "metadata": {},
   "outputs": [],
   "source": [
    "#Drop all rows containing incorrect year values - such as 0, 6, 69, 500 and -2147483648\n",
    "movies.drop(movies[movies.movie_year == '0'].index, inplace=True)\n",
    "movies.drop(movies[movies.movie_year == '6'].index, inplace=True)\n",
    "movies.drop(movies[movies.movie_year == '06'].index, inplace=True)\n",
    "movies.drop(movies[movies.movie_year == '69'].index, inplace=True)\n",
    "movies.drop(movies[movies.movie_year == '500'].index, inplace=True)\n",
    "movies.drop(movies[movies.movie_year == '-2147483648'].index, inplace=True)\n",
    "\n",
    "movies.drop(movies[movies.movie_year == 0].index, inplace=True)\n",
    "movies.drop(movies[movies.movie_year == 6].index, inplace=True)\n",
    "movies.drop(movies[movies.movie_year == 69].index, inplace=True)\n",
    "movies.drop(movies[movies.movie_year == 500].index, inplace=True)\n",
    "movies.drop(movies[movies.movie_year == -2147483648].index, inplace=True)"
   ]
  },
  {
   "cell_type": "code",
   "execution_count": 47,
   "id": "4fa33bc3",
   "metadata": {},
   "outputs": [],
   "source": [
    "#convert the string values to numeric\n",
    "movies['movie_year'] = pd.to_datetime(movies['movie_year'], format='%Y')"
   ]
  },
  {
   "cell_type": "code",
   "execution_count": 48,
   "id": "85ba6b96",
   "metadata": {},
   "outputs": [],
   "source": [
    "movie_year = pd.DataFrame(movies['title_only'].groupby(movies['movie_year']).count())"
   ]
  },
  {
   "cell_type": "code",
   "execution_count": 49,
   "id": "7d4f354a",
   "metadata": {},
   "outputs": [],
   "source": [
    "movie_year.reset_index(inplace=True)"
   ]
  },
  {
   "cell_type": "code",
   "execution_count": 50,
   "id": "20a88e46",
   "metadata": {},
   "outputs": [],
   "source": [
    "X=movie_year['movie_year']\n",
    "Y=movie_year['title_only']"
   ]
  },
  {
   "cell_type": "code",
   "execution_count": 54,
   "id": "18baa11b",
   "metadata": {
    "scrolled": false
   },
   "outputs": [
    {
     "data": {
      "image/png": "[encoded data removed]",
      "text/plain": [
       "<Figure size 1080x360 with 1 Axes>"
      ]
     },
     "metadata": {
      "needs_background": "light"
     },
     "output_type": "display_data"
    }
   ],
   "source": [
    "plt.plot_date(X,Y,'bo-')\n",
    "plt.grid(True)\n",
    "plt.rcParams[\"figure.figsize\"] = (15,5)\n",
    "plt.title('Number of movies per year')\n",
    "plt.xlabel('Years')\n",
    "plt.ylabel('Number of movies')\n",
    "# plt.xlim('1885-01-01','2020-01-01')\n",
    "plt.show()"
   ]
  },
  {
   "cell_type": "code",
   "execution_count": 55,
   "id": "22d204b9",
   "metadata": {
    "scrolled": true
   },
   "outputs": [
    {
     "data": {
      "text/html": [
       "<div>\n",
       "<style scoped>\n",
       "    .dataframe tbody tr th:only-of-type {\n",
       "        vertical-align: middle;\n",
       "    }\n",
       "\n",
       "    .dataframe tbody tr th {\n",
       "        vertical-align: top;\n",
       "    }\n",
       "\n",
       "    .dataframe thead th {\n",
       "        text-align: right;\n",
       "    }\n",
       "</style>\n",
       "<table border=\"1\" class=\"dataframe\">\n",
       "  <thead>\n",
       "    <tr style=\"text-align: right;\">\n",
       "      <th></th>\n",
       "      <th>movieId</th>\n",
       "      <th>title</th>\n",
       "      <th>genres</th>\n",
       "      <th>movie_year</th>\n",
       "      <th>title_only</th>\n",
       "    </tr>\n",
       "  </thead>\n",
       "  <tbody>\n",
       "    <tr>\n",
       "      <th>0</th>\n",
       "      <td>1</td>\n",
       "      <td>Toy Story (1995)</td>\n",
       "      <td>Adventure|Animation|Children|Comedy|Fantasy</td>\n",
       "      <td>1995-01-01</td>\n",
       "      <td>Toy Story</td>\n",
       "    </tr>\n",
       "    <tr>\n",
       "      <th>1</th>\n",
       "      <td>2</td>\n",
       "      <td>Jumanji (1995)</td>\n",
       "      <td>Adventure|Children|Fantasy</td>\n",
       "      <td>1995-01-01</td>\n",
       "      <td>Jumanji</td>\n",
       "    </tr>\n",
       "    <tr>\n",
       "      <th>2</th>\n",
       "      <td>3</td>\n",
       "      <td>Grumpier Old Men (1995)</td>\n",
       "      <td>Comedy|Romance</td>\n",
       "      <td>1995-01-01</td>\n",
       "      <td>Grumpier Old Men</td>\n",
       "    </tr>\n",
       "    <tr>\n",
       "      <th>3</th>\n",
       "      <td>4</td>\n",
       "      <td>Waiting to Exhale (1995)</td>\n",
       "      <td>Comedy|Drama|Romance</td>\n",
       "      <td>1995-01-01</td>\n",
       "      <td>Waiting to Exhale</td>\n",
       "    </tr>\n",
       "    <tr>\n",
       "      <th>4</th>\n",
       "      <td>5</td>\n",
       "      <td>Father of the Bride Part II (1995)</td>\n",
       "      <td>Comedy</td>\n",
       "      <td>1995-01-01</td>\n",
       "      <td>Father of the Bride Part II</td>\n",
       "    </tr>\n",
       "  </tbody>\n",
       "</table>\n",
       "</div>"
      ],
      "text/plain": [
       "   movieId                               title  \\\n",
       "0        1                    Toy Story (1995)   \n",
       "1        2                      Jumanji (1995)   \n",
       "2        3             Grumpier Old Men (1995)   \n",
       "3        4            Waiting to Exhale (1995)   \n",
       "4        5  Father of the Bride Part II (1995)   \n",
       "\n",
       "                                        genres movie_year  \\\n",
       "0  Adventure|Animation|Children|Comedy|Fantasy 1995-01-01   \n",
       "1                   Adventure|Children|Fantasy 1995-01-01   \n",
       "2                               Comedy|Romance 1995-01-01   \n",
       "3                         Comedy|Drama|Romance 1995-01-01   \n",
       "4                                       Comedy 1995-01-01   \n",
       "\n",
       "                    title_only  \n",
       "0                    Toy Story  \n",
       "1                      Jumanji  \n",
       "2             Grumpier Old Men  \n",
       "3            Waiting to Exhale  \n",
       "4  Father of the Bride Part II  "
      ]
     },
     "execution_count": 55,
     "metadata": {},
     "output_type": "execute_result"
    }
   ],
   "source": [
    "movies.head()"
   ]
  },
  {
   "cell_type": "code",
   "execution_count": 56,
   "id": "c647d6a9",
   "metadata": {},
   "outputs": [
    {
     "data": {
      "text/plain": [
       "['movieId', 'title', 'genres', 'movie_year', 'title_only']"
      ]
     },
     "execution_count": 56,
     "metadata": {},
     "output_type": "execute_result"
    }
   ],
   "source": [
    "list(movies)"
   ]
  },
  {
   "cell_type": "code",
   "execution_count": 57,
   "id": "0730e9dc",
   "metadata": {},
   "outputs": [],
   "source": [
    "a = pd.Series(movies.iloc[0])"
   ]
  },
  {
   "cell_type": "code",
   "execution_count": 58,
   "id": "e325b9a6",
   "metadata": {},
   "outputs": [
    {
     "data": {
      "text/plain": [
       "movieId                                                 1\n",
       "title                                    Toy Story (1995)\n",
       "genres        Adventure|Animation|Children|Comedy|Fantasy\n",
       "movie_year                            1995-01-01 00:00:00\n",
       "title_only                                      Toy Story\n",
       "Name: 0, dtype: object"
      ]
     },
     "execution_count": 58,
     "metadata": {},
     "output_type": "execute_result"
    }
   ],
   "source": [
    "a"
   ]
  },
  {
   "cell_type": "code",
   "execution_count": 59,
   "id": "a866a21d",
   "metadata": {},
   "outputs": [],
   "source": [
    "def flat(str1):\n",
    "    c = pd.DataFrame(columns=list(movies))\n",
    "    for i in range(len(str1)):\n",
    "        #print(str1[i])\n",
    "        if i == 2:\n",
    "            a = str1[i].split('|')\n",
    "    for j in range(len(a)):\n",
    "        c.loc[j] = [str1[0], str1[1], a[j], str1[3], str1[4]]\n",
    "    return c"
   ]
  },
  {
   "cell_type": "code",
   "execution_count": 60,
   "id": "38bda265",
   "metadata": {},
   "outputs": [],
   "source": [
    "c = flat(a)"
   ]
  },
  {
   "cell_type": "code",
   "execution_count": 61,
   "id": "4feba700",
   "metadata": {},
   "outputs": [
    {
     "data": {
      "text/html": [
       "<div>\n",
       "<style scoped>\n",
       "    .dataframe tbody tr th:only-of-type {\n",
       "        vertical-align: middle;\n",
       "    }\n",
       "\n",
       "    .dataframe tbody tr th {\n",
       "        vertical-align: top;\n",
       "    }\n",
       "\n",
       "    .dataframe thead th {\n",
       "        text-align: right;\n",
       "    }\n",
       "</style>\n",
       "<table border=\"1\" class=\"dataframe\">\n",
       "  <thead>\n",
       "    <tr style=\"text-align: right;\">\n",
       "      <th></th>\n",
       "      <th>movieId</th>\n",
       "      <th>title</th>\n",
       "      <th>genres</th>\n",
       "      <th>movie_year</th>\n",
       "      <th>title_only</th>\n",
       "    </tr>\n",
       "  </thead>\n",
       "  <tbody>\n",
       "    <tr>\n",
       "      <th>0</th>\n",
       "      <td>1</td>\n",
       "      <td>Toy Story (1995)</td>\n",
       "      <td>Adventure</td>\n",
       "      <td>1995-01-01</td>\n",
       "      <td>Toy Story</td>\n",
       "    </tr>\n",
       "    <tr>\n",
       "      <th>1</th>\n",
       "      <td>1</td>\n",
       "      <td>Toy Story (1995)</td>\n",
       "      <td>Animation</td>\n",
       "      <td>1995-01-01</td>\n",
       "      <td>Toy Story</td>\n",
       "    </tr>\n",
       "    <tr>\n",
       "      <th>2</th>\n",
       "      <td>1</td>\n",
       "      <td>Toy Story (1995)</td>\n",
       "      <td>Children</td>\n",
       "      <td>1995-01-01</td>\n",
       "      <td>Toy Story</td>\n",
       "    </tr>\n",
       "    <tr>\n",
       "      <th>3</th>\n",
       "      <td>1</td>\n",
       "      <td>Toy Story (1995)</td>\n",
       "      <td>Comedy</td>\n",
       "      <td>1995-01-01</td>\n",
       "      <td>Toy Story</td>\n",
       "    </tr>\n",
       "    <tr>\n",
       "      <th>4</th>\n",
       "      <td>1</td>\n",
       "      <td>Toy Story (1995)</td>\n",
       "      <td>Fantasy</td>\n",
       "      <td>1995-01-01</td>\n",
       "      <td>Toy Story</td>\n",
       "    </tr>\n",
       "  </tbody>\n",
       "</table>\n",
       "</div>"
      ],
      "text/plain": [
       "   movieId             title     genres movie_year title_only\n",
       "0        1  Toy Story (1995)  Adventure 1995-01-01  Toy Story\n",
       "1        1  Toy Story (1995)  Animation 1995-01-01  Toy Story\n",
       "2        1  Toy Story (1995)   Children 1995-01-01  Toy Story\n",
       "3        1  Toy Story (1995)     Comedy 1995-01-01  Toy Story\n",
       "4        1  Toy Story (1995)    Fantasy 1995-01-01  Toy Story"
      ]
     },
     "execution_count": 61,
     "metadata": {},
     "output_type": "execute_result"
    }
   ],
   "source": [
    "c"
   ]
  }
 ],
 "metadata": {
  "kernelspec": {
   "display_name": "Python 3 (ipykernel)",
   "language": "python",
   "name": "python3"
  },
  "language_info": {
   "codemirror_mode": {
    "name": "ipython",
    "version": 3
   },
   "file_extension": ".py",
   "mimetype": "text/x-python",
   "name": "python",
   "nbconvert_exporter": "python",
   "pygments_lexer": "ipython3",
   "version": "3.10.4"
  }
 },
 "nbformat": 4,
 "nbformat_minor": 5
}
