{
 "cells": [
  {
   "cell_type": "markdown",
   "metadata": {
    "id": "pCbOP-x725Jd"
   },
   "source": [
    "# ３章 時系列データの加工・可視化１０本ノック"
   ]
  },
  {
   "cell_type": "markdown",
   "metadata": {
    "id": "UMt-N3VMJQmJ"
   },
   "source": [
    "## ノック４１：時系列データを読み込んでみよう"
   ]
  },
  {
   "cell_type": "code",
   "execution_count": null,
   "metadata": {
    "id": "X0_qawUmRqa-"
   },
   "outputs": [],
   "source": [
    "from glob import glob\n",
    "files = glob('../../downloads/100knock/chapter-3/data/person_count_1sec/out_0001/*.csv')\n",
    "files.sort()\n",
    "files[:5]"
   ]
  },
  {
   "cell_type": "code",
   "execution_count": null,
   "metadata": {
    "id": "RJfKBOCVQ9Sg"
   },
   "outputs": [],
   "source": [
    "import pandas as pd\n",
    "data = pd.read_csv(files[0])\n",
    "display(data.head(5))\n",
    "print(data.dtypes)"
   ]
  },
  {
   "cell_type": "code",
   "execution_count": null,
   "metadata": {
    "id": "MUZJdWFgG2dG"
   },
   "outputs": [],
   "source": [
    "data['receive_time'] = pd.to_datetime(data['receive_time'])\n",
    "display(data.head())\n",
    "print(data.dtypes)"
   ]
  },
  {
   "cell_type": "code",
   "execution_count": null,
   "metadata": {
    "id": "dPDO6hobG2dG"
   },
   "outputs": [],
   "source": [
    "data = pd.read_csv(files[0], parse_dates=[\"receive_time\"])\n",
    "display(data.head())\n",
    "print(data.dtypes)"
   ]
  },
  {
   "cell_type": "code",
   "execution_count": null,
   "metadata": {
    "id": "u6YXQoGUNyG1"
   },
   "outputs": [],
   "source": [
    "data = []\n",
    "for f in files:\n",
    "  tmp = pd.read_csv(f, parse_dates=[\"receive_time\"])\n",
    "  data.append(tmp)\n",
    "data = pd.concat(data,ignore_index=True)\n",
    "display(data.head())\n",
    "len(data)"
   ]
  },
  {
   "cell_type": "markdown",
   "metadata": {
    "id": "yecwJpz1PWrQ"
   },
   "source": [
    "## ノック４２：日付の範囲を確認しよう"
   ]
  },
  {
   "cell_type": "code",
   "execution_count": null,
   "metadata": {
    "id": "an1sjR1vQyUI"
   },
   "outputs": [],
   "source": [
    "min_receive_time = data['receive_time'].min()\n",
    "max_receive_time = data['receive_time'].max()\n",
    "print(min_receive_time)\n",
    "print(max_receive_time)"
   ]
  },
  {
   "cell_type": "code",
   "execution_count": null,
   "metadata": {
    "id": "POFL8sU0RHE0"
   },
   "outputs": [],
   "source": [
    "print(data['receive_time'].max()-data['receive_time'].min())"
   ]
  },
  {
   "cell_type": "markdown",
   "metadata": {
    "id": "5Y7f3a3BM-pm"
   },
   "source": [
    "## ノック４３：日毎のデータ件数を確認しよう"
   ]
  },
  {
   "cell_type": "code",
   "execution_count": null,
   "metadata": {
    "id": "Vnepx-lShiUG"
   },
   "outputs": [],
   "source": [
    "data['receive_date'] = data['receive_time'].dt.date\n",
    "data.head()"
   ]
  },
  {
   "cell_type": "code",
   "execution_count": null,
   "metadata": {
    "id": "MgqV8TIyhvBn"
   },
   "outputs": [],
   "source": [
    "daily_count = data[['receive_date','id']].groupby('receive_date', as_index=False).count()\n",
    "daily_count.head()"
   ]
  },
  {
   "cell_type": "code",
   "execution_count": null,
   "metadata": {
    "id": "VaG_EWlkiMup"
   },
   "outputs": [],
   "source": [
    "import seaborn as sns\n",
    "import matplotlib.pyplot as plt\n",
    "plt.figure(figsize=(15, 5))\n",
    "plt.xticks(rotation=90)\n",
    "sns.barplot(x=daily_count['receive_date'], y=daily_count[\"id\"])"
   ]
  },
  {
   "cell_type": "markdown",
   "metadata": {
    "id": "ViRmiYPJnmus"
   },
   "source": [
    "## ノック４４：日付から曜日を算出しよう"
   ]
  },
  {
   "cell_type": "code",
   "execution_count": null,
   "metadata": {
    "id": "5vpJDlsdnx3t"
   },
   "outputs": [],
   "source": [
    "data['dayofweek'] = data['receive_time'].dt.dayofweek\n",
    "data['day_name'] = data['receive_time'].dt.day_name()\n",
    "data.head()"
   ]
  },
  {
   "cell_type": "code",
   "execution_count": null,
   "metadata": {
    "id": "SWwV1gJkoERb"
   },
   "outputs": [],
   "source": [
    "data[['receive_date','dayofweek','day_name']].drop_duplicates(subset='receive_date').head(10)"
   ]
  },
  {
   "cell_type": "markdown",
   "metadata": {
    "id": "iA3P7k4TljBX"
   },
   "source": [
    "## ノック４５：特定範囲のデータに絞り込もう"
   ]
  },
  {
   "cell_type": "code",
   "execution_count": null,
   "metadata": {
    "id": "6MfBS5OMkb4l"
   },
   "outputs": [],
   "source": [
    "import datetime as dt\n",
    "data_extract = data.loc[(data['receive_time']>=dt.datetime(2021,1,20))&\n",
    "                        (data['receive_time']<dt.datetime(2021,1,23))].copy()\n",
    "display(data_extract.head())\n",
    "display(data_extract.tail())"
   ]
  },
  {
   "cell_type": "markdown",
   "metadata": {
    "id": "-3-FbGQmi193"
   },
   "source": [
    "## ノック４６：秒単位のデータを作成しよう"
   ]
  },
  {
   "cell_type": "code",
   "execution_count": null,
   "metadata": {
    "id": "oH7M8ZOgNMaa"
   },
   "outputs": [],
   "source": [
    "data_extract['receive_time_sec'] = data_extract['receive_time'].dt.round('S')\n",
    "data_extract.head()"
   ]
  },
  {
   "cell_type": "code",
   "execution_count": null,
   "metadata": {
    "id": "p4LgSOicTVrJ"
   },
   "outputs": [],
   "source": [
    "print(len(data_extract))\n",
    "print(len(data_extract['receive_time_sec'].unique()))"
   ]
  },
  {
   "cell_type": "code",
   "execution_count": null,
   "metadata": {
    "id": "swhwTcNuTwWB"
   },
   "outputs": [],
   "source": [
    "data_extract[data_extract['receive_time_sec'].duplicated(keep=False)].head()"
   ]
  },
  {
   "cell_type": "code",
   "execution_count": null,
   "metadata": {
    "id": "ijL7ratGNyET"
   },
   "outputs": [],
   "source": [
    "data_extract['receive_time_sec'] = data_extract['receive_time'].dt.floor('S')\n",
    "display(data_extract.head())\n",
    "print(len(data_extract))\n",
    "print(len(data_extract['receive_time_sec'].unique()))"
   ]
  },
  {
   "cell_type": "code",
   "execution_count": null,
   "metadata": {
    "id": "Uuu338bATkyv"
   },
   "outputs": [],
   "source": [
    "data_extract[data_extract['receive_time_sec'].duplicated(keep=False)].head()"
   ]
  },
  {
   "cell_type": "code",
   "execution_count": null,
   "metadata": {
    "id": "3zZLHEUVe7Lz"
   },
   "outputs": [],
   "source": [
    "data_extract = data_extract.drop_duplicates(subset=['receive_time_sec'])\n",
    "min_receive_time = data_extract['receive_time_sec'].min()\n",
    "max_receive_time = data_extract['receive_time_sec'].max()\n",
    "print(len(data_extract))\n",
    "print(f'{min_receive_time}から{max_receive_time}')"
   ]
  },
  {
   "cell_type": "markdown",
   "metadata": {
    "id": "0jEeKThlZLtm"
   },
   "source": [
    "## ノック４７：秒単位のデータを整形しよう"
   ]
  },
  {
   "cell_type": "code",
   "execution_count": null,
   "metadata": {
    "id": "zMVJa_9kdTom"
   },
   "outputs": [],
   "source": [
    "print(pd.date_range('2021-01-15', '2021-01-16', freq='S'))"
   ]
  },
  {
   "cell_type": "code",
   "execution_count": null,
   "metadata": {
    "id": "rZ_EFhHHd4PR"
   },
   "outputs": [],
   "source": [
    "base_data = pd.DataFrame({'receive_time_sec':pd.date_range(min_receive_time, max_receive_time,freq='S')})\n",
    "display(base_data.head())\n",
    "display(base_data.tail())\n",
    "print(len(base_data))"
   ]
  },
  {
   "cell_type": "code",
   "execution_count": null,
   "metadata": {
    "id": "ggkxNp8DgCRl"
   },
   "outputs": [],
   "source": [
    "data_base_extract = pd.merge(base_data, data_extract, on='receive_time_sec', how='left')\n",
    "display(data_base_extract.head())\n",
    "display(data_base_extract.isna().sum())"
   ]
  },
  {
   "cell_type": "markdown",
   "metadata": {
    "id": "sfKC6KKArWnk"
   },
   "source": [
    "## ノック４８：秒間の欠損データを処理しよう"
   ]
  },
  {
   "cell_type": "code",
   "execution_count": null,
   "metadata": {
    "id": "DFSPB1OirelE"
   },
   "outputs": [],
   "source": [
    "data_base_extract.sort_values('receive_time_sec',inplace=True)\n",
    "data_base_extract = data_base_extract.fillna(method='ffill')\n",
    "data_base_extract.head()"
   ]
  },
  {
   "cell_type": "markdown",
   "metadata": {
    "id": "bc3iz7IpdOYR"
   },
   "source": [
    "## ノック４９：通った人数を可視化しよう"
   ]
  },
  {
   "cell_type": "code",
   "execution_count": null,
   "metadata": {
    "id": "fYnnojaITazg"
   },
   "outputs": [],
   "source": [
    "data_analytics = data_base_extract[['receive_time_sec','in1','out1']].copy()\n",
    "data_analytics.head()"
   ]
  },
  {
   "cell_type": "code",
   "execution_count": null,
   "metadata": {
    "id": "3FCq69jxuioT"
   },
   "outputs": [],
   "source": [
    "data_before_1sec = data_analytics.shift(1)\n",
    "data_before_1sec.head()"
   ]
  },
  {
   "cell_type": "code",
   "execution_count": null,
   "metadata": {
    "id": "8QB-Hx0vvgww"
   },
   "outputs": [],
   "source": [
    "data_before_1sec.columns = ['receive_time_sec_b1sec','in1_b1sec','out1_b1sec']\n",
    "data_analytics = pd.concat([data_analytics, data_before_1sec],axis=1)\n",
    "data_analytics.head()"
   ]
  },
  {
   "cell_type": "code",
   "execution_count": null,
   "metadata": {
    "id": "yl9j0jz2wHd_"
   },
   "outputs": [],
   "source": [
    "data_analytics['in1_calc'] = data_analytics['in1'] - data_analytics['in1_b1sec'] \n",
    "data_analytics['out1_calc'] = data_analytics['out1'] - data_analytics['out1_b1sec'] \n",
    "data_analytics.head()"
   ]
  },
  {
   "cell_type": "code",
   "execution_count": null,
   "metadata": {
    "id": "WVRSqb1LyfXx"
   },
   "outputs": [],
   "source": [
    "data_analytics['date_hour'] = data_analytics['receive_time_sec'].dt.strftime('%Y%m%d%H')\n",
    "data_analytics.head()"
   ]
  },
  {
   "cell_type": "code",
   "execution_count": null,
   "metadata": {
    "id": "YSPynlFL2aKd"
   },
   "outputs": [],
   "source": [
    "viz_data = data_analytics[['date_hour','in1_calc','out1_calc']].groupby('date_hour',as_index=False).sum()\n",
    "viz_data = pd.melt(viz_data, id_vars='date_hour', value_vars=['in1_calc', 'out1_calc'])\n",
    "viz_data.head()"
   ]
  },
  {
   "cell_type": "code",
   "execution_count": null,
   "metadata": {
    "id": "7VWa3PVkwZKE"
   },
   "outputs": [],
   "source": [
    "plt.figure(figsize=(15, 5))\n",
    "plt.xticks(rotation=90)\n",
    "sns.lineplot(x=viz_data['date_hour'], y=viz_data[\"value\"], hue=viz_data['variable'])"
   ]
  },
  {
   "cell_type": "markdown",
   "metadata": {
    "id": "ZyRFGF40OOcQ"
   },
   "source": [
    "## ノック５０：移動平均を計算して可視化しよう"
   ]
  },
  {
   "cell_type": "code",
   "execution_count": null,
   "metadata": {
    "id": "UdZHRrMgP5XX"
   },
   "outputs": [],
   "source": [
    "viz_data = data_analytics[['date_hour','in1_calc','out1_calc']].groupby('date_hour',as_index=False).sum()\n",
    "viz_data.head(10)"
   ]
  },
  {
   "cell_type": "code",
   "execution_count": null,
   "metadata": {
    "id": "syQ5W215hQrf"
   },
   "outputs": [],
   "source": [
    "viz_data_rolling = viz_data[['in1_calc','out1_calc']].rolling(3).mean()\n",
    "viz_data_rolling.head(10)"
   ]
  },
  {
   "cell_type": "code",
   "execution_count": null,
   "metadata": {
    "id": "bnrRANvmP5kT"
   },
   "outputs": [],
   "source": [
    "viz_data_rolling['date_hour'] = viz_data['date_hour']\n",
    "viz_data_rolling = pd.melt(viz_data_rolling, id_vars='date_hour', value_vars=['in1_calc', 'out1_calc'])\n",
    "\n",
    "plt.figure(figsize=(15, 5))\n",
    "plt.xticks(rotation=90)\n",
    "sns.lineplot(x=viz_data_rolling['date_hour'], y=viz_data_rolling[\"value\"], hue=viz_data_rolling['variable'])"
   ]
  }
 ],
 "metadata": {
  "colab": {
   "collapsed_sections": [],
   "name": "3章.ipynb",
   "provenance": []
  },
  "kernelspec": {
   "display_name": "Python 3 (ipykernel)",
   "language": "python",
   "name": "python3"
  },
  "language_info": {
   "codemirror_mode": {
    "name": "ipython",
    "version": 3
   },
   "file_extension": ".py",
   "mimetype": "text/x-python",
   "name": "python",
   "nbconvert_exporter": "python",
   "pygments_lexer": "ipython3",
   "version": "3.10.4"
  }
 },
 "nbformat": 4,
 "nbformat_minor": 4
}
